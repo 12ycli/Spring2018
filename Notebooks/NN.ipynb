{
 "cells": [
  {
   "cell_type": "markdown",
   "metadata": {},
   "source": [
    "## Nearest Neighbor Classifier for CIFAR-10"
   ]
  },
  {
   "cell_type": "code",
   "execution_count": null,
   "metadata": {},
   "outputs": [],
   "source": [
    "-- load trainin images\n",
    "tr_x = torch.load('cifar10/te_data.bin')\n",
    "-- load trainin labels \n",
    "tr_y = torch.load('cifar10/te_labels.bin')\n",
    "-- load test images\n",
    "te_x = torch.load('cifar10/te_data.bin')\n",
    "-- load test labels \n",
    "te_y = torch.load('cifar10/te_labels.bin')"
   ]
  },
  {
   "cell_type": "code",
   "execution_count": null,
   "metadata": {},
   "outputs": [],
   "source": [
    "print(te_x:size())\n",
    "print(te_y:size())"
   ]
  },
  {
   "cell_type": "code",
   "execution_count": null,
   "metadata": {},
   "outputs": [],
   "source": [
    "-- display the first 36 training set images\n",
    "require 'image';\n",
    "itorch.image(te_x[{{1,36},{},{},{}}])\n",
    "print(te_y[{{1,36}}])"
   ]
  },
  {
   "cell_type": "code",
   "execution_count": null,
   "metadata": {},
   "outputs": [],
   "source": [
    "local NN = torch.class(\"NN\")\n",
    "\n",
    "function NN:__init()\n",
    "end\n",
    "\n",
    "function NN:train(X, y)\n",
    "  -- X is 2D of size N x D = 32x32x3, so each row is an example\n",
    "  -- Y is 1D of size N \n",
    "  self.tr_x = X\n",
    "  self.tr_y = y\n",
    "end\n",
    "\n",
    "function NN:predict(x)\n",
    "  -- x is of size D = 32x32x3 for which we want to predict the label\n",
    "  -- returns the predicted label for the input x\n",
    "  local min_idx = nil\n",
    "  local min_dist = 1e10\n",
    "  for i=1, self.tr_x:size(1) do\n",
    "    local dist = (self.tr_x[i] - x):float():abs():sum()\n",
    "    if (dist < min_dist) then\n",
    "      min_dist = dist\n",
    "      min_idx = i\n",
    "    end\n",
    "  end\n",
    "  return self.tr_y[min_idx]\n",
    "end"
   ]
  },
  {
   "cell_type": "code",
   "execution_count": null,
   "metadata": {},
   "outputs": [],
   "source": [
    "classifier = NN.new()\n",
    "classifier:train(tr_x, tr_y)\n",
    "\n",
    "itorch.image(te_x[100])\n",
    "print (classifier:predict(te_x[100]))\n",
    "\n",
    "itorch.image(te_x[110])\n",
    "print (classifier:predict(te_x[110]))\n",
    "\n",
    "itorch.image(te_x[120])\n",
    "print (classifier:predict(te_x[120]))\n",
    "\n",
    "itorch.image(te_x[130])\n",
    "print (classifier:predict(te_x[130]))\n",
    "\n",
    "itorch.image(te_x[140])\n",
    "print (classifier:predict(te_x[140]))"
   ]
  },
  {
   "cell_type": "code",
   "execution_count": null,
   "metadata": {
    "collapsed": true
   },
   "outputs": [],
   "source": [
    "require 'math'\n",
    "function evaluate()\n",
    "    errors = 0\n",
    "    for i = 1,10 do\n",
    "        xi = tr_x[i] \n",
    "        ti = tr_y[i] \n",
    "        op = classifier:predict(xi)\n",
    "        if ti ~= op then\n",
    "            errors = errors + 1\n",
    "        end\n",
    "    end\n",
    "    return errors\n",
    "end"
   ]
  },
  {
   "cell_type": "code",
   "execution_count": null,
   "metadata": {},
   "outputs": [],
   "source": [
    "print(evaluate())"
   ]
  },
  {
   "cell_type": "code",
   "execution_count": null,
   "metadata": {
    "collapsed": true
   },
   "outputs": [],
   "source": []
  }
 ],
 "metadata": {
  "kernelspec": {
   "display_name": "iTorch",
   "language": "lua",
   "name": "itorch"
  },
  "language_info": {
   "name": "lua",
   "version": "5.1"
  }
 },
 "nbformat": 4,
 "nbformat_minor": 2
}
